{
 "cells": [
  {
   "cell_type": "markdown",
   "metadata": {},
   "source": [
    "## Visualize model outputs"
   ]
  },
  {
   "cell_type": "markdown",
   "metadata": {},
   "source": [
    "#### Disabling Jupyter's inline scroll option"
   ]
  },
  {
   "cell_type": "code",
   "execution_count": null,
   "metadata": {},
   "outputs": [],
   "source": [
    "%%javascript\n",
    "IPython.OutputArea.prototype._should_scroll = function(lines) {\n",
    "    return false;\n",
    "}"
   ]
  },
  {
   "cell_type": "markdown",
   "metadata": {},
   "source": [
    "#### Importing equired importing libraries"
   ]
  },
  {
   "cell_type": "code",
   "execution_count": null,
   "metadata": {},
   "outputs": [],
   "source": [
    "import os\n",
    "import tensorflow as tf\n",
    "from scripts.model_result_scripts import read_inputs_report, read_model_inputs, read_model, get_metrics_log, get_timekeeper\n",
    "from IPython.display import clear_output, Image, display, HTML\n",
    "import matplotlib.pyplot as plt\n",
    "import matplotlib.image as mpimg\n",
    "import numpy as np\n",
    "import matplotlib\n",
    "from IPython.display import Image\n",
    "\n",
    "%matplotlib inline"
   ]
  },
  {
   "cell_type": "markdown",
   "metadata": {},
   "source": [
    "#### Reading Model configuration and Input files\n",
    "Set ```model_outputs_path``` output root folder of model outputs"
   ]
  },
  {
   "cell_type": "code",
   "execution_count": null,
   "metadata": {
    "scrolled": true
   },
   "outputs": [],
   "source": [
    "model_outputs_path = \"/home/negengec/Desktop/model_outputs_truba/\"\n",
    "ran_models = os.listdir(model_outputs_path)\n",
    "ran_models.sort()\n",
    "for index, folder in enumerate(ran_models):\n",
    "    print(\"{}: {}\".format(index + 1, folder))\n",
    "\n",
    "chosen_index = int(input())\n",
    "chosen_model = ran_models[chosen_index - 1]\n",
    "working_path = \"{}{}/\".format(model_outputs_path, chosen_model)\n",
    "\n",
    "clear_output()\n",
    "\n",
    "root_file_list, image_file_list, model_type = read_inputs_report(working_path)\n",
    "image_file_list.sort()\n",
    "model_config, image_file_names = read_model_inputs(working_path)\n",
    "time_log = get_timekeeper(working_path)"
   ]
  },
  {
   "cell_type": "markdown",
   "metadata": {},
   "source": [
    "#### Model Architecture:"
   ]
  },
  {
   "cell_type": "code",
   "execution_count": null,
   "metadata": {
    "scrolled": true
   },
   "outputs": [],
   "source": [
    "model = read_model(working_path)\n",
    "\n",
    "tf.keras.utils.plot_model(model, show_shapes=True, show_layer_names=False)"
   ]
  },
  {
   "cell_type": "markdown",
   "metadata": {},
   "source": [
    "#### Model performance graphs"
   ]
  },
  {
   "cell_type": "code",
   "execution_count": null,
   "metadata": {},
   "outputs": [],
   "source": [
    "log = get_metrics_log(working_path)\n",
    "columns = log.columns\n",
    "metrics =[x.replace(\"val_\", \"\") for x in columns if \"val\" in x]\n",
    "for metric in metrics:\n",
    "    log_temp = log[[\"epoch\", metric, \"val_\" + metric]]\n",
    "    plot = log_temp.set_index(\"epoch\").plot(title=metric.title().replace(\"_\", \" \"))"
   ]
  },
  {
   "cell_type": "markdown",
   "metadata": {},
   "source": [
    "#### Process input files to avoid the ones that have data but not prediction"
   ]
  },
  {
   "cell_type": "code",
   "execution_count": null,
   "metadata": {},
   "outputs": [],
   "source": [
    "limit = 0\n",
    "traj_available = False\n",
    "speed_max_available = False\n",
    "speed_avg_available = False\n",
    "\n",
    "subgraph_count = 3\n",
    "\n",
    "for i in range(len(image_file_list)):\n",
    "    for file in image_file_list:\n",
    "        if \"traj_count\" in file:\n",
    "            if not traj_available:\n",
    "                subgraph_count += 1\n",
    "            traj_available = True\n",
    "            \n",
    "        if \"speed_max\" in file:\n",
    "            if not speed_max_available:\n",
    "                subgraph_count += 1\n",
    "            speed_max_available = True\n",
    "            \n",
    "        if \"speed_avg\" in file:\n",
    "            if not speed_avg_available:\n",
    "                subgraph_count += 1\n",
    "            speed_avg_available = True\n",
    "            \n",
    "        if file.startswith(\"{}_\".format(str(i))) and \"predict\" in file:\n",
    "            limit += 1\n",
    "            break\n",
    "            \n",
    "width_ratio = []\n",
    "for i in range(subgraph_count):\n",
    "    width_ratio.append(10)\n",
    "\n",
    "print(\"Trajectory count             : {}\".format(traj_available))            \n",
    "print(\"Speed max                    : {}\".format(speed_max_available))            \n",
    "print(\"Speed avg                    : {}\".format(speed_avg_available))            \n",
    "print(\"Number of prediction examples: {}\".format(limit))"
   ]
  },
  {
   "cell_type": "markdown",
   "metadata": {},
   "source": [
    "#### Read predictions, labels and Sentinel RGB images.\n",
    "- ```threshold```set to 0.5, change if required.\n",
    "- Known issues:\n",
    "    - Sentinel RGB image seems false color due to preprocessing.\n"
   ]
  },
  {
   "cell_type": "code",
   "execution_count": null,
   "metadata": {
    "scrolled": false
   },
   "outputs": [],
   "source": [
    "matplotlib.rcParams['figure.figsize'] = [20, 20]\n",
    "subgraph_rem = 2\n",
    "\n",
    "for i in range(limit):\n",
    "    res = [idx for idx in image_file_list if idx.startswith(\"{}_\".format(i))]\n",
    "    f,ax = plt.subplots(1,subgraph_count, gridspec_kw={'width_ratios': width_ratio})\n",
    "    for file in res:\n",
    "        if \"predict\" in file and \"_1.\" in file:\n",
    "            predict = mpimg.imread('{}images/{}'.format(working_path, file))\n",
    "            predict = predict < 0.5          \n",
    "            predict = predict.astype(int)\n",
    "            ax[2].imshow(predict, cmap=\"gray\")\n",
    "            ax[2].set_title(\"Prediction\")\n",
    "        \n",
    "        elif \"B02\" in file:\n",
    "            # blue\n",
    "            blue = mpimg.imread('{}images/{}'.format(working_path, file))\n",
    "        \n",
    "        elif \"B03\" in file:\n",
    "            # green\n",
    "            green = mpimg.imread('{}images/{}'.format(working_path, file))\n",
    "        \n",
    "        elif \"B04\" in file:\n",
    "            # red\n",
    "            red = mpimg.imread('{}images/{}'.format(working_path, file))\n",
    "        \n",
    "        elif \"label\" in file and \"_0_0.\" in file:\n",
    "            # label\n",
    "            label = mpimg.imread('{}images/{}'.format(working_path, file))\n",
    "            ax[1].imshow(label, cmap=\"gray\")\n",
    "            ax[1].set_title(\"Label\")\n",
    "            \n",
    "        elif \"traj_count\" in file:\n",
    "            subgraph_rem += 1\n",
    "            traj_count = mpimg.imread('{}images/{}'.format(working_path, file))\n",
    "            ax[subgraph_rem].imshow(traj_count, cmap=\"gray\")\n",
    "            ax[subgraph_rem].set_title(\"Trajectory Density\")\n",
    "        \n",
    "        elif \"speed_max\" in file:\n",
    "            subgraph_rem += 1\n",
    "            speed_max = mpimg.imread('{}images/{}'.format(working_path, file))\n",
    "            ax[subgraph_rem].imshow(speed_max, cmap=\"gray\")\n",
    "            ax[subgraph_rem].set_title(\"Maximum speed\")\n",
    "        \n",
    "        elif \"speed_avg\" in file:\n",
    "            subgraph_rem += 1\n",
    "            speed_avg = mpimg.imread('{}images/{}'.format(working_path, file))\n",
    "            ax[subgraph_rem].imshow(speed_avg, cmap=\"gray\")\n",
    "            ax[subgraph_rem].set_title(\"Average speed\")\n",
    "            \n",
    "    sentinel_img = np.dstack((red, green, blue))\n",
    "    ax[0].imshow(sentinel_img, cmap=\"magma\")\n",
    "    ax[0].set_title(\"Sentinel\")\n",
    "  \n",
    "    for x in ax:\n",
    "        x.set_xticks([])\n",
    "        x.set_yticks([])\n",
    "        \n",
    "    if label.mean() == 255.:\n",
    "        print(\"Label image patch doesn't contain any road.\")\n",
    "    \n",
    "    plt.show()\n",
    "    fig = plt.figure()\n",
    "    # f.savefig(\"{}.png\".format(i))\n",
    "    subgraph_rem = 2"
   ]
  },
  {
   "cell_type": "markdown",
   "metadata": {},
   "source": [
    "#### Save images to disk."
   ]
  },
  {
   "cell_type": "code",
   "execution_count": null,
   "metadata": {},
   "outputs": [],
   "source": [
    "matplotlib.rcParams['figure.figsize'] = [20, 20]\n",
    "subgraph_rem = 2\n",
    "\n",
    "for i in range(limit):\n",
    "    res = [idx for idx in image_file_list if idx.startswith(\"{}_\".format(i))]\n",
    "    f,ax = plt.subplots(1,subgraph_count, gridspec_kw={'width_ratios': width_ratio})\n",
    "    for file in res:\n",
    "        if \"predict\" in file and \"_1.\" in file:\n",
    "            predict = mpimg.imread('{}images/{}'.format(working_path, file))\n",
    "            predict = predict < 0.5          \n",
    "            predict = predict.astype(int)\n",
    "            plt.imshow(predict, cmap=\"gray\")\n",
    "            plt.imsave(\"{}_{}_prediction.png\".format(working_path, i), predict, cmap=\"gray\")\n",
    "        \n",
    "        elif \"B02\" in file:\n",
    "            # blue\n",
    "            blue = mpimg.imread('{}images/{}'.format(working_path, file))\n",
    "        \n",
    "        elif \"B03\" in file:\n",
    "            # green\n",
    "            green = mpimg.imread('{}images/{}'.format(working_path, file))\n",
    "        \n",
    "        elif \"B04\" in file:\n",
    "            # red\n",
    "            red = mpimg.imread('{}images/{}'.format(working_path, file))\n",
    "        \n",
    "        elif \"label\" in file and \"_0_0.\" in file:\n",
    "            # label\n",
    "            label = mpimg.imread('{}images/{}'.format(working_path, file))\n",
    "            ax[1].imshow(label, cmap=\"gray\")\n",
    "            ax[1].set_title(\"Label\")\n",
    "            plt.imsave(\"{}_{}_label.png\".format(working_path, i), label, cmap=\"gray\")\n",
    "            \n",
    "        elif \"traj_count\" in file:\n",
    "            subgraph_rem += 1\n",
    "            traj_count = mpimg.imread('{}images/{}'.format(working_path, file))\n",
    "            ax[subgraph_rem].imshow(traj_count, cmap=\"gray\")\n",
    "            ax[subgraph_rem].set_title(\"Trajectory Density\")\n",
    "        \n",
    "        elif \"speed_max\" in file:\n",
    "            subgraph_rem += 1\n",
    "            speed_max = mpimg.imread('{}images/{}'.format(working_path, file))\n",
    "            ax[subgraph_rem].imshow(speed_max, cmap=\"gray\")\n",
    "            ax[subgraph_rem].set_title(\"Maximum speed\")\n",
    "        \n",
    "        elif \"speed_avg\" in file:\n",
    "            subgraph_rem += 1\n",
    "            speed_avg = mpimg.imread('{}images/{}'.format(working_path, file))\n",
    "            ax[subgraph_rem].imshow(speed_avg, cmap=\"gray\")\n",
    "            ax[subgraph_rem].set_title(\"Average speed\")\n",
    "            \n",
    "    sentinel_img = np.dstack((red, green, blue))\n",
    "    plt.imsave(\"{}_{}_rgb.png\".format(working_path, i), sentinel_img, cmap=\"magma\")\n",
    "    ax[0].imshow(sentinel_img, cmap=\"magma\")\n",
    "    ax[0].set_title(\"Sentinel\")\n",
    "  \n",
    "    for x in ax:\n",
    "        x.set_xticks([])\n",
    "        x.set_yticks([])\n",
    "        \n",
    "    if label.mean() == 255.:\n",
    "        print(\"Label image patch doesn't contain any road.\")\n",
    "    \n",
    "    # plt.show()\n",
    "    # fig = plt.figure()\n",
    "    # f.savefig(\"{}.png\".format(i))\n",
    "    print(\"#{} finalized!\".format(i))"
   ]
  },
  {
   "cell_type": "markdown",
   "metadata": {},
   "source": []
  }
 ],
 "metadata": {
  "kernelspec": {
   "display_name": "Python 3",
   "language": "python",
   "name": "python3"
  },
  "language_info": {
   "codemirror_mode": {
    "name": "ipython",
    "version": 3
   },
   "file_extension": ".py",
   "mimetype": "text/x-python",
   "name": "python",
   "nbconvert_exporter": "python",
   "pygments_lexer": "ipython3",
   "version": "3.7.9"
  }
 },
 "nbformat": 4,
 "nbformat_minor": 4
}
