{
 "cells": [
  {
   "cell_type": "markdown",
   "metadata": {},
   "source": [
    "## Visualize model outputs"
   ]
  },
  {
   "cell_type": "markdown",
   "metadata": {},
   "source": [
    "#### Disabling Jupyter's inline scroll option."
   ]
  },
  {
   "cell_type": "code",
   "execution_count": null,
   "metadata": {},
   "outputs": [],
   "source": [
    "%%javascript\n",
    "IPython.OutputArea.prototype._should_scroll = function(lines) {\n",
    "    return false;\n",
    "}"
   ]
  },
  {
   "cell_type": "markdown",
   "metadata": {},
   "source": [
    "#### Reading input files\n",
    "Set ```working_path``` output \"images\" folder"
   ]
  },
  {
   "cell_type": "code",
   "execution_count": null,
   "metadata": {},
   "outputs": [],
   "source": [
    "import os\n",
    "\n",
    "working_path = \"/home/nagellette/Desktop/model_outputs/unet_2021_01_14-21_18_40/images/\"\n",
    "\n",
    "file_list = os.listdir(working_path)\n",
    "print(\"Working path: {}\".format(working_path))\n",
    "print(\"Read {} files.\".format(len(file_list)))"
   ]
  },
  {
   "cell_type": "markdown",
   "metadata": {},
   "source": [
    "#### Process input files to avoid the ones that have data but not prediction"
   ]
  },
  {
   "cell_type": "code",
   "execution_count": null,
   "metadata": {},
   "outputs": [],
   "source": [
    "limit = 0\n",
    "for i in range(len(file_list)):\n",
    "    for file in file_list:\n",
    "        if file.startswith(\"{}_\".format(str(i))) and \"predict\" in file:\n",
    "            print(file)\n",
    "            limit += 1\n",
    "            break\n",
    "            \n",
    "print(\"Number of prediction examples: {}\".format(limit))"
   ]
  },
  {
   "cell_type": "markdown",
   "metadata": {},
   "source": [
    "#### Read predictions, labels and Sentinel RGB images.\n",
    "- ```threshold```set to 0.5, change if required.\n",
    "- Known issues:\n",
    "    - Sentinel RGB image seems false color due to preprocessing.\n",
    "    - Sentinel B2, B3, B4 bands are saved as B1, B2, B3.\n"
   ]
  },
  {
   "cell_type": "code",
   "execution_count": null,
   "metadata": {},
   "outputs": [],
   "source": [
    "import matplotlib.pyplot as plt\n",
    "import matplotlib.image as mpimg\n",
    "import numpy as np\n",
    "import matplotlib\n",
    "\n",
    "%matplotlib inline\n",
    "\n",
    "matplotlib.rcParams['figure.figsize'] = [20, 20]\n",
    "\n",
    "for i in range(limit):\n",
    "    res = [idx for idx in file_list if idx.startswith(\"{}_\".format(i))]\n",
    "    f,ax = plt.subplots(1,3, gridspec_kw={'width_ratios': [10, 10, 10]})\n",
    "    for file in res:\n",
    "        if \"predict\" in file and \"_2.\" in file:\n",
    "            predict = mpimg.imread('{}/{}'.format(working_path, file))\n",
    "            predict = predict > 0.5\n",
    "            predict = predict.astype(int)\n",
    "            ax[0].imshow(predict, cmap=\"gray\")\n",
    "            ax[0].set_title(\"Prediction\")\n",
    "        \n",
    "        elif \"B02\" in file:\n",
    "            # blue\n",
    "            blue = mpimg.imread('{}/{}'.format(working_path, file))\n",
    "            print(np.max(blue))\n",
    "        \n",
    "        elif \"B03\" in file:\n",
    "            # green\n",
    "            green = mpimg.imread('{}/{}'.format(working_path, file))\n",
    "        \n",
    "        elif \"B04\" in file:\n",
    "            # red\n",
    "            red = mpimg.imread('{}/{}'.format(working_path, file))\n",
    "        \n",
    "        elif \"label\" in file and \"_0_0.\" in file:\n",
    "            # label\n",
    "            label = mpimg.imread('{}/{}'.format(working_path, file))\n",
    "            ax[1].imshow(label, cmap=\"gray\")\n",
    "            ax[1].set_title(\"Label\")\n",
    "            \n",
    "    sentinel_img = np.dstack((red, green, blue))\n",
    "    ax[2].imshow(sentinel_img, cmap=\"magma\")\n",
    "    ax[2].set_title(\"Sentinel\")\n",
    "  \n",
    "    for x in ax:\n",
    "        x.set_xticks([])\n",
    "        x.set_yticks([])\n",
    "    \n",
    "    plt.show()"
   ]
  }
 ],
 "metadata": {
  "kernelspec": {
   "display_name": "Python 3",
   "language": "python",
   "name": "python3"
  },
  "language_info": {
   "codemirror_mode": {
    "name": "ipython",
    "version": 3
   },
   "file_extension": ".py",
   "mimetype": "text/x-python",
   "name": "python",
   "nbconvert_exporter": "python",
   "pygments_lexer": "ipython3",
   "version": "3.7.9"
  }
 },
 "nbformat": 4,
 "nbformat_minor": 4
}
