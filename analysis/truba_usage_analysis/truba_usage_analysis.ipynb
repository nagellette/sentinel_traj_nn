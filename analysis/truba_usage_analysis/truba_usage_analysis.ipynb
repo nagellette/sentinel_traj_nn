{
 "cells": [
  {
   "cell_type": "code",
   "execution_count": 1,
   "metadata": {},
   "outputs": [],
   "source": [
    "import pandas as pd\n",
    "import qgrid\n",
    "\n",
    "import matplotlib.pyplot as plt"
   ]
  },
  {
   "cell_type": "code",
   "execution_count": 5,
   "metadata": {},
   "outputs": [
    {
     "data": {
      "application/vnd.jupyter.widget-view+json": {
       "model_id": "849fe51021f04a0697c80219b3f61c74",
       "version_major": 2,
       "version_minor": 0
      },
      "text/plain": [
       "QgridWidget(grid_options={'fullWidthRows': True, 'syncColumnCellResize': True, 'forceFitColumns': True, 'defau…"
      ]
     },
     "metadata": {},
     "output_type": "display_data"
    }
   ],
   "source": [
    "df = pd.read_csv(\"usage_test_data.csv\")\n",
    "qgrid.show_grid(df, show_toolbar)"
   ]
  },
  {
   "cell_type": "code",
   "execution_count": 3,
   "metadata": {},
   "outputs": [
    {
     "data": {
      "text/html": [
       "<div>\n",
       "<style scoped>\n",
       "    .dataframe tbody tr th:only-of-type {\n",
       "        vertical-align: middle;\n",
       "    }\n",
       "\n",
       "    .dataframe tbody tr th {\n",
       "        vertical-align: top;\n",
       "    }\n",
       "\n",
       "    .dataframe thead th {\n",
       "        text-align: right;\n",
       "    }\n",
       "</style>\n",
       "<table border=\"1\" class=\"dataframe\">\n",
       "  <thead>\n",
       "    <tr style=\"text-align: right;\">\n",
       "      <th></th>\n",
       "      <th>model</th>\n",
       "      <th>dataset</th>\n",
       "      <th>batch_size</th>\n",
       "      <th>patch_size</th>\n",
       "      <th>num_of_epochs</th>\n",
       "      <th>epoch_size</th>\n",
       "      <th>cluster</th>\n",
       "      <th>gpu</th>\n",
       "      <th>cpu</th>\n",
       "      <th>before_usage</th>\n",
       "      <th>after_usage</th>\n",
       "      <th>running_time</th>\n",
       "    </tr>\n",
       "  </thead>\n",
       "  <tbody>\n",
       "    <tr>\n",
       "      <th>0</th>\n",
       "      <td>unet</td>\n",
       "      <td>Montreal-small (4 MSI bands)</td>\n",
       "      <td>2</td>\n",
       "      <td>512x512</td>\n",
       "      <td>10</td>\n",
       "      <td>1000</td>\n",
       "      <td>Akya-cuda</td>\n",
       "      <td>1</td>\n",
       "      <td>10</td>\n",
       "      <td>39644</td>\n",
       "      <td>85184</td>\n",
       "      <td>12.650000</td>\n",
       "    </tr>\n",
       "    <tr>\n",
       "      <th>1</th>\n",
       "      <td>unet</td>\n",
       "      <td>Montreal-small (4 MSI bands)</td>\n",
       "      <td>2</td>\n",
       "      <td>512x512</td>\n",
       "      <td>10</td>\n",
       "      <td>1000</td>\n",
       "      <td>Akya-cuda</td>\n",
       "      <td>2</td>\n",
       "      <td>10</td>\n",
       "      <td>85184</td>\n",
       "      <td>133344</td>\n",
       "      <td>13.377778</td>\n",
       "    </tr>\n",
       "    <tr>\n",
       "      <th>2</th>\n",
       "      <td>unet</td>\n",
       "      <td>Montreal-small (4 MSI bands)</td>\n",
       "      <td>2</td>\n",
       "      <td>1024x1024</td>\n",
       "      <td>10</td>\n",
       "      <td>1000</td>\n",
       "      <td>Akya-cuda</td>\n",
       "      <td>1</td>\n",
       "      <td>10</td>\n",
       "      <td>133344</td>\n",
       "      <td>292374</td>\n",
       "      <td>44.175000</td>\n",
       "    </tr>\n",
       "    <tr>\n",
       "      <th>3</th>\n",
       "      <td>unet</td>\n",
       "      <td>Montreal-small (4 MSI bands)</td>\n",
       "      <td>2</td>\n",
       "      <td>1024x1024</td>\n",
       "      <td>10</td>\n",
       "      <td>1000</td>\n",
       "      <td>Akya-cuda</td>\n",
       "      <td>2</td>\n",
       "      <td>10</td>\n",
       "      <td>292374</td>\n",
       "      <td>452974</td>\n",
       "      <td>44.611111</td>\n",
       "    </tr>\n",
       "    <tr>\n",
       "      <th>4</th>\n",
       "      <td>unet</td>\n",
       "      <td>Montreal-small (4 MSI bands)</td>\n",
       "      <td>4</td>\n",
       "      <td>512x512</td>\n",
       "      <td>10</td>\n",
       "      <td>1000</td>\n",
       "      <td>Akya-cuda</td>\n",
       "      <td>4</td>\n",
       "      <td>10</td>\n",
       "      <td>455314</td>\n",
       "      <td>537754</td>\n",
       "      <td>22.900000</td>\n",
       "    </tr>\n",
       "  </tbody>\n",
       "</table>\n",
       "</div>"
      ],
      "text/plain": [
       "  model                       dataset  batch_size patch_size  num_of_epochs  \\\n",
       "0  unet  Montreal-small (4 MSI bands)           2    512x512             10   \n",
       "1  unet  Montreal-small (4 MSI bands)           2    512x512             10   \n",
       "2  unet  Montreal-small (4 MSI bands)           2  1024x1024             10   \n",
       "3  unet  Montreal-small (4 MSI bands)           2  1024x1024             10   \n",
       "4  unet  Montreal-small (4 MSI bands)           4    512x512             10   \n",
       "\n",
       "   epoch_size    cluster  gpu  cpu  before_usage  after_usage  running_time  \n",
       "0        1000  Akya-cuda    1   10         39644        85184     12.650000  \n",
       "1        1000  Akya-cuda    2   10         85184       133344     13.377778  \n",
       "2        1000  Akya-cuda    1   10        133344       292374     44.175000  \n",
       "3        1000  Akya-cuda    2   10        292374       452974     44.611111  \n",
       "4        1000  Akya-cuda    4   10        455314       537754     22.900000  "
      ]
     },
     "execution_count": 3,
     "metadata": {},
     "output_type": "execute_result"
    }
   ],
   "source": [
    "df[\"running_time\"] = df.apply(lambda x: (x[\"after_usage\"]-x[\"before_usage\"])/3600, axis=1)\n",
    "df"
   ]
  },
  {
   "cell_type": "code",
   "execution_count": 4,
   "metadata": {},
   "outputs": [
    {
     "data": {
      "image/png": "[encoded data removed]",
      "text/plain": [
       "<Figure size 576x432 with 1 Axes>"
      ]
     },
     "metadata": {
      "needs_background": "light"
     },
     "output_type": "display_data"
    }
   ],
   "source": [
    "tempdf = df[[\"patch_size\", \"running_time\"]]\n",
    "fig, ax = plt.subplots(figsize=(8,6))\n",
    "plot = tempdf.groupby(\"patch_size\").plot(kind=\"line\", ax=ax)"
   ]
  },
  {
   "cell_type": "code",
   "execution_count": null,
   "metadata": {},
   "outputs": [],
   "source": []
  }
 ],
 "metadata": {
  "kernelspec": {
   "display_name": "Python 3",
   "language": "python",
   "name": "python3"
  },
  "language_info": {
   "codemirror_mode": {
    "name": "ipython",
    "version": 3
   },
   "file_extension": ".py",
   "mimetype": "text/x-python",
   "name": "python",
   "nbconvert_exporter": "python",
   "pygments_lexer": "ipython3",
   "version": "3.7.9"
  }
 },
 "nbformat": 4,
 "nbformat_minor": 4
}
